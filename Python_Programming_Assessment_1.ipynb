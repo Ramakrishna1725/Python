{
 "cells": [
  {
   "cell_type": "code",
   "execution_count": 2,
   "metadata": {},
   "outputs": [
    {
     "name": "stdout",
     "output_type": "stream",
     "text": [
      "Hello Python\n"
     ]
    }
   ],
   "source": [
    "def hello():\n",
    "    print(\"Hello Python\")\n",
    "    \n",
    "hello()"
   ]
  },
  {
   "cell_type": "code",
   "execution_count": 8,
   "metadata": {},
   "outputs": [
    {
     "name": "stdout",
     "output_type": "stream",
     "text": [
      "5\n",
      "0.5714285714285714\n",
      "Please enter either + or / operator\n"
     ]
    }
   ],
   "source": [
    "def operation(V1,V2,oper):\n",
    "    if oper == '+':\n",
    "        return V1+V2\n",
    "    elif oper == '/':\n",
    "        return V1/V2\n",
    "    else:\n",
    "        return 'Please enter either + or / operator'\n",
    "        \n",
    "        \n",
    "print(operation(2,3,'+'))\n",
    "print(operation(4,7,'/'))\n",
    "print(operation(3,4,'%'))"
   ]
  },
  {
   "cell_type": "code",
   "execution_count": 9,
   "metadata": {},
   "outputs": [
    {
     "data": {
      "text/plain": [
       "5.0"
      ]
     },
     "execution_count": 9,
     "metadata": {},
     "output_type": "execute_result"
    }
   ],
   "source": [
    "def area_of_triangle(b,h):\n",
    "    return b*h/2\n",
    "\n",
    "area_of_triangle(2,5)"
   ]
  },
  {
   "cell_type": "code",
   "execution_count": 11,
   "metadata": {},
   "outputs": [
    {
     "name": "stdout",
     "output_type": "stream",
     "text": [
      "(21, 12)\n"
     ]
    }
   ],
   "source": [
    "def swap(a,b):\n",
    "    a,b = b,a\n",
    "    return a,b\n",
    "    \n",
    "print(swap(12,21))"
   ]
  },
  {
   "cell_type": "code",
   "execution_count": 14,
   "metadata": {},
   "outputs": [
    {
     "name": "stdout",
     "output_type": "stream",
     "text": [
      "4\n"
     ]
    }
   ],
   "source": [
    "import random\n",
    "print(random.randint(0,9))"
   ]
  },
  {
   "cell_type": "code",
   "execution_count": null,
   "metadata": {},
   "outputs": [],
   "source": []
  }
 ],
 "metadata": {
  "kernelspec": {
   "display_name": "Python 3",
   "language": "python",
   "name": "python3"
  },
  "language_info": {
   "codemirror_mode": {
    "name": "ipython",
    "version": 3
   },
   "file_extension": ".py",
   "mimetype": "text/x-python",
   "name": "python",
   "nbconvert_exporter": "python",
   "pygments_lexer": "ipython3",
   "version": "3.7.6"
  }
 },
 "nbformat": 4,
 "nbformat_minor": 4
}
