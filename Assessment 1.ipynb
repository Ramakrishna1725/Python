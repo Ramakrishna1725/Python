{
 "cells": [
  {
   "cell_type": "markdown",
   "metadata": {},
   "source": [
    "### Question 1"
   ]
  },
  {
   "cell_type": "markdown",
   "metadata": {},
   "source": [
    "Values --> 'hello',-87.8,6\n",
    "Expressions --> *,-,/,+"
   ]
  },
  {
   "cell_type": "markdown",
   "metadata": {},
   "source": [
    "### Question 2"
   ]
  },
  {
   "cell_type": "markdown",
   "metadata": {},
   "source": [
    "A Variable is used to store a value and string is one type of datatype which the variable can hold.\n",
    "\n",
    "Eg: b = \"Hi\"\n",
    "Here Hi is the string which is stored in a variable (b)."
   ]
  },
  {
   "cell_type": "markdown",
   "metadata": {},
   "source": [
    "### Question 3"
   ]
  },
  {
   "cell_type": "markdown",
   "metadata": {},
   "source": [
    "Types of Datatypes:  \n",
    "1)Integer : A variable which can hold integer Values with non-decimal Bases(like Binary,Hexadecimal,Octal).\n",
    "eg : a =10  \n",
    "2)Float : A variable which can hold floating point values. These are specified with a decimal point.\n",
    "eg : b = 5.256  \n",
    "3)String : A variable which can hold any type of text. These must enclosed in between the quotation marks.\n",
    "eg : c = \"Hello\""
   ]
  },
  {
   "cell_type": "markdown",
   "metadata": {},
   "source": [
    "### Question 4"
   ]
  },
  {
   "cell_type": "markdown",
   "metadata": {},
   "source": [
    "An expression consists of variables,operators and values. The main purpose of expression is to evaluate to a single value."
   ]
  },
  {
   "cell_type": "markdown",
   "metadata": {},
   "source": [
    "### Question 5"
   ]
  },
  {
   "cell_type": "markdown",
   "metadata": {},
   "source": [
    "A expression is one which will evalute the entire expression to a single value whereas statements are used to assign a value to a variable which can be used to hold that particular value."
   ]
  },
  {
   "cell_type": "markdown",
   "metadata": {},
   "source": [
    "### Question 6"
   ]
  },
  {
   "cell_type": "markdown",
   "metadata": {},
   "source": [
    "bacon will hold the value 22 only as the incremented value is not assigned back to the variable. \n",
    "The value of the variable will change if and only if the value is assigned to the variable.  "
   ]
  },
  {
   "cell_type": "markdown",
   "metadata": {},
   "source": [
    "# Question 7"
   ]
  },
  {
   "cell_type": "markdown",
   "metadata": {},
   "source": [
    "Both 'spam' + 'spamspam' and 'spam'*3 will output same ie.., 'spamspamspam'"
   ]
  },
  {
   "cell_type": "markdown",
   "metadata": {},
   "source": [
    "### Question 8"
   ]
  },
  {
   "cell_type": "markdown",
   "metadata": {},
   "source": [
    "Variables should follow a specific set of rules like the first letter of the variable should always start with a letter or an underscore(_).\n",
    "Hence, the variables eggs is a valid variable name and 100 is not valid."
   ]
  },
  {
   "cell_type": "markdown",
   "metadata": {},
   "source": [
    "### Question 9"
   ]
  },
  {
   "cell_type": "markdown",
   "metadata": {},
   "source": [
    "To convert a variable value to an integer we should use int() function. Similarly for Float we should use float() and for string we will use str()  \n",
    "These functions can be used to change the datatype of a variable."
   ]
  },
  {
   "cell_type": "markdown",
   "metadata": {},
   "source": [
    "### Question 10"
   ]
  },
  {
   "cell_type": "markdown",
   "metadata": {},
   "source": [
    "The Expression ('I have eaten' + 99 +'burritos.') is throwing an error because we are trying to append an integer value to a string value. Inorder to remove the error we need convert the value of 99 to a string.\n",
    "\n",
    "Corrected Expression : 'I have eaten' + str(99) + 'burritos.'"
   ]
  },
  {
   "cell_type": "code",
   "execution_count": null,
   "metadata": {},
   "outputs": [],
   "source": []
  }
 ],
 "metadata": {
  "kernelspec": {
   "display_name": "Python 3",
   "language": "python",
   "name": "python3"
  },
  "language_info": {
   "codemirror_mode": {
    "name": "ipython",
    "version": 3
   },
   "file_extension": ".py",
   "mimetype": "text/x-python",
   "name": "python",
   "nbconvert_exporter": "python",
   "pygments_lexer": "ipython3",
   "version": "3.7.6"
  }
 },
 "nbformat": 4,
 "nbformat_minor": 4
}
CHANGE
